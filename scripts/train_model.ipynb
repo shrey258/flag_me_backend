{
 "cells": [
  {
   "cell_type": "markdown",
   "metadata": {},
   "source": [
    "# Gift Recommendation Model Training\n",
    "\n",
    "This notebook trains a recommendation model using scikit-learn's NearestNeighbors algorithm."
   ]
  },
  {
   "cell_type": "code",
   "execution_count": 1,
   "metadata": {},
   "outputs": [],
   "source": [
    "import pandas as pd\n",
    "import numpy as np\n",
    "from sklearn.feature_extraction.text import TfidfVectorizer\n",
    "from sklearn.neighbors import NearestNeighbors\n",
    "import joblib"
   ]
  },
  {
   "cell_type": "markdown",
   "metadata": {},
   "source": [
    "## Load and Prepare Data"
   ]
  },
  {
   "cell_type": "code",
   "execution_count": null,
   "metadata": {},
   "outputs": [],
   "source": [
    "# Load the gift dataset\n",
    "df = pd.read_csv('../data/gift_data.csv')\n",
    "df.head()"
   ]
  },
  {
   "cell_type": "code",
   "execution_count": null,
   "metadata": {},
   "outputs": [],
   "source": [
    "# Prepare text data for TF-IDF\n",
    "df['preferences'] = df['preferences'].apply(lambda x: ' '.join(eval(x)))"
   ]
  },
  {
   "cell_type": "markdown",
   "metadata": {},
   "source": [
    "## Train the Model"
   ]
  },
  {
   "cell_type": "code",
   "execution_count": null,
   "metadata": {},
   "outputs": [],
   "source": [
    "# Create and fit TF-IDF vectorizer\n",
    "vectorizer = TfidfVectorizer()\n",
    "feature_matrix = vectorizer.fit_transform(df['preferences'])\n",
    "\n",
    "# Train NearestNeighbors model\n",
    "model = NearestNeighbors(n_neighbors=5, metric='cosine')\n",
    "model.fit(feature_matrix)"
   ]
  },
  {
   "cell_type": "markdown",
   "metadata": {},
   "source": [
    "## Save the Model"
   ]
  },
  {
   "cell_type": "code",
   "execution_count": null,
   "metadata": {},
   "outputs": [],
   "source": [
    "# Save model and vectorizer\n",
    "joblib.dump(model, '../data/nearest_neighbors_model.joblib')\n",
    "joblib.dump(vectorizer, '../data/tfidf_vectorizer.joblib')\n",
    "print('Model and vectorizer saved successfully!')"
   ]
  },
  {
   "cell_type": "markdown",
   "metadata": {},
   "source": [
    "## Test the Model"
   ]
  },
  {
   "cell_type": "code",
   "execution_count": null,
   "metadata": {},
   "outputs": [],
   "source": [
    "# Test with sample preferences\n",
    "sample_preferences = ['technology', 'gadgets', 'modern']\n",
    "input_vector = vectorizer.transform([' '.join(sample_preferences)])\n",
    "distances, indices = model.kneighbors(input_vector)\n",
    "\n",
    "print('\\nRecommended gifts:')\n",
    "for idx in indices[0]:\n",
    "    print(f\"- {df.iloc[idx]['name']} (${df.iloc[idx]['price']})\")"
   ]
  }
 ],
 "metadata": {
  "kernelspec": {
   "display_name": "env",
   "language": "python",
   "name": "python3"
  },
  "language_info": {
   "codemirror_mode": {
    "name": "ipython",
    "version": 3
   },
   "file_extension": ".py",
   "mimetype": "text/x-python",
   "name": "python",
   "nbconvert_exporter": "python",
   "pygments_lexer": "ipython3",
   "version": "3.11.9"
  }
 },
 "nbformat": 4,
 "nbformat_minor": 4
}
