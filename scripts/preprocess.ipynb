{
 "cells": [
  {
   "cell_type": "markdown",
   "metadata": {},
   "source": [
    "# Gift Recommendation Data Preprocessing\n",
    "\n",
    "This notebook contains utilities for preprocessing the gift dataset."
   ]
  },
  {
   "cell_type": "code",
   "execution_count": null,
   "metadata": {},
   "source": [
    "import pandas as pd\n",
    "import numpy as np"
   ]
  },
  {
   "cell_type": "code",
   "execution_count": null,
   "metadata": {},
   "source": [
    "def load_and_preprocess_data(file_path):\n",
    "    \"\"\"\n",
    "    Load and preprocess the gift dataset.\n",
    "    \n",
    "    Args:\n",
    "        file_path (str): Path to the CSV file containing gift data\n",
    "        \n",
    "    Returns:\n",
    "        pd.DataFrame: Preprocessed gift dataset\n",
    "    \"\"\"\n",
    "    df = pd.read_csv(file_path)\n",
    "    df['preferences'] = df['preferences'].apply(lambda x: eval(x))\n",
    "    return df"
   ]
  },
  {
   "cell_type": "markdown",
   "metadata": {},
   "source": [
    "## Example Usage"
   ]
  },
  {
   "cell_type": "code",
   "execution_count": null,
   "metadata": {},
   "source": [
    "# Example of loading and preprocessing data\n",
    "# df = load_and_preprocess_data('../data/gift_data.csv')\n",
    "# df.head()"
   ]
  }
 ],
 "metadata": {
  "kernelspec": {
   "display_name": "Python 3",
   "language": "python",
   "name": "python3"
  },
  "language_info": {
   "codemirror_mode": {
    "name": "ipython",
    "version": 3
   },
   "file_extension": ".py",
   "mimetype": "text/x-python",
   "name": "python",
   "nbconvert_exporter": "python",
   "pygments_lexer": "ipython3",
   "version": "3.8.0"
  }
 },
 "nbformat": 4,
 "nbformat_minor": 4
}
